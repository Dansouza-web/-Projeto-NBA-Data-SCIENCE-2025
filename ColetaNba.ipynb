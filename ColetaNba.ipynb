{
  "nbformat": 4,
  "nbformat_minor": 0,
  "metadata": {
    "colab": {
      "provenance": [],
      "authorship_tag": "ABX9TyPb55wo1QV86uL6aLa+iP18",
      "include_colab_link": true
    },
    "kernelspec": {
      "name": "python3",
      "display_name": "Python 3"
    },
    "language_info": {
      "name": "python"
    }
  },
  "cells": [
    {
      "cell_type": "markdown",
      "metadata": {
        "id": "view-in-github",
        "colab_type": "text"
      },
      "source": [
        "<a href=\"https://colab.research.google.com/github/Dansouza-web/-Projeto-NBA-Data-SCIENCE-2025/blob/main/ColetaNba.ipynb\" target=\"_parent\"><img src=\"https://colab.research.google.com/assets/colab-badge.svg\" alt=\"Open In Colab\"/></a>"
      ]
    },
    {
      "cell_type": "code",
      "source": [
        "!pip install nba_api"
      ],
      "metadata": {
        "colab": {
          "base_uri": "https://localhost:8080/"
        },
        "id": "JV-mTUnBOfkE",
        "outputId": "5f4fa559-3ed1-4cf9-c067-037c8fe6a332"
      },
      "execution_count": null,
      "outputs": [
        {
          "output_type": "stream",
          "name": "stdout",
          "text": [
            "Collecting nba_api\n",
            "  Downloading nba_api-1.9.0-py3-none-any.whl.metadata (5.8 kB)\n",
            "Requirement already satisfied: numpy>=1.26.0 in /usr/local/lib/python3.11/dist-packages (from nba_api) (2.0.2)\n",
            "Requirement already satisfied: pandas>=2.1.0 in /usr/local/lib/python3.11/dist-packages (from nba_api) (2.2.2)\n",
            "Requirement already satisfied: requests<3.0.0,>=2.32.3 in /usr/local/lib/python3.11/dist-packages (from nba_api) (2.32.3)\n",
            "Requirement already satisfied: python-dateutil>=2.8.2 in /usr/local/lib/python3.11/dist-packages (from pandas>=2.1.0->nba_api) (2.9.0.post0)\n",
            "Requirement already satisfied: pytz>=2020.1 in /usr/local/lib/python3.11/dist-packages (from pandas>=2.1.0->nba_api) (2025.2)\n",
            "Requirement already satisfied: tzdata>=2022.7 in /usr/local/lib/python3.11/dist-packages (from pandas>=2.1.0->nba_api) (2025.2)\n",
            "Requirement already satisfied: charset-normalizer<4,>=2 in /usr/local/lib/python3.11/dist-packages (from requests<3.0.0,>=2.32.3->nba_api) (3.4.2)\n",
            "Requirement already satisfied: idna<4,>=2.5 in /usr/local/lib/python3.11/dist-packages (from requests<3.0.0,>=2.32.3->nba_api) (3.10)\n",
            "Requirement already satisfied: urllib3<3,>=1.21.1 in /usr/local/lib/python3.11/dist-packages (from requests<3.0.0,>=2.32.3->nba_api) (2.4.0)\n",
            "Requirement already satisfied: certifi>=2017.4.17 in /usr/local/lib/python3.11/dist-packages (from requests<3.0.0,>=2.32.3->nba_api) (2025.4.26)\n",
            "Requirement already satisfied: six>=1.5 in /usr/local/lib/python3.11/dist-packages (from python-dateutil>=2.8.2->pandas>=2.1.0->nba_api) (1.17.0)\n",
            "Downloading nba_api-1.9.0-py3-none-any.whl (284 kB)\n",
            "\u001b[2K   \u001b[90m━━━━━━━━━━━━━━━━━━━━━━━━━━━━━━━━━━━━━━━━\u001b[0m \u001b[32m284.9/284.9 kB\u001b[0m \u001b[31m8.9 MB/s\u001b[0m eta \u001b[36m0:00:00\u001b[0m\n",
            "\u001b[?25hInstalling collected packages: nba_api\n",
            "Successfully installed nba_api-1.9.0\n"
          ]
        }
      ]
    },
    {
      "cell_type": "code",
      "source": [
        "import pandas as pd\n",
        "from nba_api.stats.endpoints import leaguedashplayerstats\n",
        "import time"
      ],
      "metadata": {
        "id": "I3TnUrlv92jG"
      },
      "execution_count": null,
      "outputs": []
    },
    {
      "cell_type": "code",
      "source": [
        "mvps = {\n",
        "     '2013-14': 'kevin durant',\n",
        "    '2014-15': 'stephen curry',\n",
        "    '2015-16': 'stephen curry',\n",
        "    '2016-17': 'russell westbrook',\n",
        "    '2017-18': 'james harden',\n",
        "    '2018-19': 'giannis antetokounmpo',\n",
        "    '2019-20': 'giannis antetokounmpo',\n",
        "    '2020-21': 'nikola jokić',\n",
        "    '2021-22': 'nikola jokić',\n",
        "    '2022-23': 'joel embiid',\n",
        "    '2023-24': 'nikola jokić'\n",
        "}"
      ],
      "metadata": {
        "id": "BYS70hud-T-0"
      },
      "execution_count": null,
      "outputs": []
    },
    {
      "cell_type": "code",
      "source": [
        "dados_temporadas = []"
      ],
      "metadata": {
        "id": "r8fWLrBc-dYw"
      },
      "execution_count": null,
      "outputs": []
    },
    {
      "cell_type": "code",
      "source": [
        "for temporada, nome_mvp in mvps.items():\n",
        "  print(f'Baixando dados da temporada {temporada}...')\n",
        "  time.sleep(1)\n",
        "\n",
        "  stats = leaguedashplayerstats.LeagueDashPlayerStats(\n",
        "      season=temporada,\n",
        "      season_type_all_star='Regular Season'\n",
        "\n",
        "  )\n",
        "\n",
        "  df = stats.get_data_frames()[0]\n",
        "  df['SEASON']= temporada\n",
        "\n",
        "  df['PLAYER_NAME'] = df['PLAYER_NAME'].str.strip().str.lower()\n",
        "  nome_mvp = nome_mvp.strip().lower()\n",
        "\n",
        "  #usando lambda\n",
        "  df['IS_MVP'] = df['PLAYER_NAME'].apply(lambda nome: 1 if nome == nome_mvp else 0)\n",
        "\n",
        "  df = df[[\n",
        "        'PLAYER_NAME', 'TEAM_ABBREVIATION', 'SEASON', 'GP', 'MIN', 'PTS', 'REB',\n",
        "        'AST', 'STL', 'BLK', 'TOV', 'FG_PCT', 'FG3_PCT', 'FT_PCT', 'PLUS_MINUS', 'IS_MVP'\n",
        "    ]]\n",
        "\n",
        "  dados_temporadas.append(df)"
      ],
      "metadata": {
        "colab": {
          "base_uri": "https://localhost:8080/"
        },
        "id": "2rDkbzeN-gZS",
        "outputId": "539ad907-c300-44e9-8959-39abe00b5ade"
      },
      "execution_count": null,
      "outputs": [
        {
          "output_type": "stream",
          "name": "stdout",
          "text": [
            "Baixando dados da temporada 2013-14...\n",
            "Baixando dados da temporada 2014-15...\n",
            "Baixando dados da temporada 2015-16...\n",
            "Baixando dados da temporada 2016-17...\n",
            "Baixando dados da temporada 2017-18...\n",
            "Baixando dados da temporada 2018-19...\n",
            "Baixando dados da temporada 2019-20...\n",
            "Baixando dados da temporada 2020-21...\n",
            "Baixando dados da temporada 2021-22...\n",
            "Baixando dados da temporada 2022-23...\n",
            "Baixando dados da temporada 2023-24...\n"
          ]
        }
      ]
    },
    {
      "cell_type": "code",
      "source": [
        "df_mvp = pd.concat(dados_temporadas, ignore_index=True)"
      ],
      "metadata": {
        "id": "nrZm6xBx_uAI"
      },
      "execution_count": null,
      "outputs": []
    },
    {
      "cell_type": "code",
      "source": [
        "df_mvp = df_mvp.drop_duplicates(subset=['PLAYER_NAME', 'SEASON'])"
      ],
      "metadata": {
        "id": "_gNCBbtbF053"
      },
      "execution_count": null,
      "outputs": []
    },
    {
      "cell_type": "code",
      "source": [
        "df_mvp['EFF'] = (\n",
        "    df_mvp['PTS'] + df_mvp['REB'] + df_mvp['AST'] +\n",
        "    df_mvp['STL'] + df_mvp['BLK'] - df_mvp['TOV']\n",
        ")"
      ],
      "metadata": {
        "id": "kY4wpYFjAvZI"
      },
      "execution_count": null,
      "outputs": []
    },
    {
      "cell_type": "code",
      "source": [
        "print(\"\\nDistribuição da coluna IS_MVP:\")\n",
        "print(df_mvp['IS_MVP'].value_counts())\n",
        "\n",
        "print(\"\\nMVPs marcados corretamente:\")\n",
        "print(df_mvp[df_mvp['IS_MVP'] == 1][['PLAYER_NAME', 'SEASON']])\n"
      ],
      "metadata": {
        "colab": {
          "base_uri": "https://localhost:8080/"
        },
        "id": "pYiWQbhRBPSy",
        "outputId": "bb7bce17-8a92-46f5-8707-f008fc342493"
      },
      "execution_count": null,
      "outputs": [
        {
          "output_type": "stream",
          "name": "stdout",
          "text": [
            "\n",
            "Distribuição da coluna IS_MVP:\n",
            "IS_MVP\n",
            "0    5779\n",
            "1      11\n",
            "Name: count, dtype: int64\n",
            "\n",
            "MVPs marcados corretamente:\n",
            "                PLAYER_NAME   SEASON\n",
            "265            kevin durant  2013-14\n",
            "917           stephen curry  2014-15\n",
            "1395          stephen curry  2015-16\n",
            "1853      russell westbrook  2016-17\n",
            "2154           james harden  2017-18\n",
            "2655  giannis antetokounmpo  2018-19\n",
            "3184  giannis antetokounmpo  2019-20\n",
            "3934           nikola jokić  2020-21\n",
            "4524           nikola jokić  2021-22\n",
            "4931            joel embiid  2022-23\n",
            "5653           nikola jokić  2023-24\n"
          ]
        }
      ]
    },
    {
      "cell_type": "code",
      "source": [
        "import os\n",
        "\n",
        "# Criar a pasta no seu Drive\n",
        "output_dir = '/content/drive/MyDrive/ColetaNba'\n",
        "output_file = 'df_mvp.csv'\n",
        "full_path = os.path.join(output_dir, output_file)\n",
        "\n",
        "# Criar a pasta se não existir\n",
        "if not os.path.exists(output_dir):\n",
        "    os.makedirs(output_dir)\n",
        "    print(f\"Pasta '{output_dir}' criada.\")\n",
        "else:\n",
        "    print(f\"Pasta '{output_dir}' já existe.\")\n",
        "\n",
        "# Salvar o DataFrame\n",
        "df_mvp.to_csv(full_path, index=False)\n",
        "print(f\"DataFrame salvo com sucesso em: {full_path}\")\n"
      ],
      "metadata": {
        "colab": {
          "base_uri": "https://localhost:8080/"
        },
        "id": "wln43ZdGUvW5",
        "outputId": "a049aefa-4430-4220-a2a3-c9e4c539d0e0"
      },
      "execution_count": null,
      "outputs": [
        {
          "output_type": "stream",
          "name": "stdout",
          "text": [
            "Pasta '/content/drive/MyDrive/ColetaNba' já existe.\n",
            "DataFrame salvo com sucesso em: /content/drive/MyDrive/ColetaNba/df_mvp.csv\n"
          ]
        }
      ]
    }
  ]
}