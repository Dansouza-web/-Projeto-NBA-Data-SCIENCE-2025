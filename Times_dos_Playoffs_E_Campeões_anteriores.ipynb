{
  "nbformat": 4,
  "nbformat_minor": 0,
  "metadata": {
    "colab": {
      "provenance": [],
      "authorship_tag": "ABX9TyOOvPQnncnbjAzcyWWKqqPg",
      "include_colab_link": true
    },
    "kernelspec": {
      "name": "python3",
      "display_name": "Python 3"
    },
    "language_info": {
      "name": "python"
    }
  },
  "cells": [
    {
      "cell_type": "markdown",
      "metadata": {
        "id": "view-in-github",
        "colab_type": "text"
      },
      "source": [
        "<a href=\"https://colab.research.google.com/github/Dansouza-web/-Projeto-NBA-Data-SCIENCE-2025/blob/main/Times_dos_Playoffs_E_Campe%C3%B5es_anteriores.ipynb\" target=\"_parent\"><img src=\"https://colab.research.google.com/assets/colab-badge.svg\" alt=\"Open In Colab\"/></a>"
      ]
    },
    {
      "cell_type": "code",
      "source": [
        "!pip install nba_api"
      ],
      "metadata": {
        "colab": {
          "base_uri": "https://localhost:8080/"
        },
        "id": "sdu5jdlElG06",
        "outputId": "c662a04c-df21-4795-833d-0cf90258dd41"
      },
      "execution_count": 1,
      "outputs": [
        {
          "output_type": "stream",
          "name": "stdout",
          "text": [
            "Collecting nba_api\n",
            "  Downloading nba_api-1.9.0-py3-none-any.whl.metadata (5.8 kB)\n",
            "Requirement already satisfied: numpy>=1.26.0 in /usr/local/lib/python3.11/dist-packages (from nba_api) (2.0.2)\n",
            "Requirement already satisfied: pandas>=2.1.0 in /usr/local/lib/python3.11/dist-packages (from nba_api) (2.2.2)\n",
            "Requirement already satisfied: requests<3.0.0,>=2.32.3 in /usr/local/lib/python3.11/dist-packages (from nba_api) (2.32.3)\n",
            "Requirement already satisfied: python-dateutil>=2.8.2 in /usr/local/lib/python3.11/dist-packages (from pandas>=2.1.0->nba_api) (2.9.0.post0)\n",
            "Requirement already satisfied: pytz>=2020.1 in /usr/local/lib/python3.11/dist-packages (from pandas>=2.1.0->nba_api) (2025.2)\n",
            "Requirement already satisfied: tzdata>=2022.7 in /usr/local/lib/python3.11/dist-packages (from pandas>=2.1.0->nba_api) (2025.2)\n",
            "Requirement already satisfied: charset-normalizer<4,>=2 in /usr/local/lib/python3.11/dist-packages (from requests<3.0.0,>=2.32.3->nba_api) (3.4.2)\n",
            "Requirement already satisfied: idna<4,>=2.5 in /usr/local/lib/python3.11/dist-packages (from requests<3.0.0,>=2.32.3->nba_api) (3.10)\n",
            "Requirement already satisfied: urllib3<3,>=1.21.1 in /usr/local/lib/python3.11/dist-packages (from requests<3.0.0,>=2.32.3->nba_api) (2.4.0)\n",
            "Requirement already satisfied: certifi>=2017.4.17 in /usr/local/lib/python3.11/dist-packages (from requests<3.0.0,>=2.32.3->nba_api) (2025.4.26)\n",
            "Requirement already satisfied: six>=1.5 in /usr/local/lib/python3.11/dist-packages (from python-dateutil>=2.8.2->pandas>=2.1.0->nba_api) (1.17.0)\n",
            "Downloading nba_api-1.9.0-py3-none-any.whl (284 kB)\n",
            "\u001b[?25l   \u001b[90m━━━━━━━━━━━━━━━━━━━━━━━━━━━━━━━━━━━━━━━━\u001b[0m \u001b[32m0.0/284.9 kB\u001b[0m \u001b[31m?\u001b[0m eta \u001b[36m-:--:--\u001b[0m\r\u001b[2K   \u001b[90m━━━━━━━━━━━━━━━━━━━━━━━━━━━━━━━━━━━━━━━━\u001b[0m \u001b[32m284.9/284.9 kB\u001b[0m \u001b[31m12.1 MB/s\u001b[0m eta \u001b[36m0:00:00\u001b[0m\n",
            "\u001b[?25hInstalling collected packages: nba_api\n",
            "Successfully installed nba_api-1.9.0\n"
          ]
        }
      ]
    },
    {
      "cell_type": "code",
      "source": [
        "import pandas as pd\n",
        "from nba_api.stats.endpoints import leaguedashteamstats\n",
        "import time"
      ],
      "metadata": {
        "id": "gkS7urGXna30"
      },
      "execution_count": 2,
      "outputs": []
    },
    {
      "cell_type": "code",
      "source": [
        "seasons = [\n",
        "    '2013-14', '2014-15', '2015-16', '2016-17', '2017-18',\n",
        "    '2018-19', '2019-20', '2020-21', '2021-22', '2022-23', '2023-24'\n",
        "]\n",
        "\n",
        "champions = {\n",
        "    '2013-14': 'san antonio spurs',\n",
        "    '2014-15': 'golden state warriors',\n",
        "    '2015-16': 'cleveland cavaliers',\n",
        "    '2016-17': 'golden state warriors',\n",
        "    '2017-18': 'golden state warriors',\n",
        "    '2018-19': 'toronto raptors',\n",
        "    '2019-20': 'los angeles lakers',\n",
        "    '2020-21': 'milwaukee bucks',\n",
        "    '2021-22': 'golden state warriors',\n",
        "    '2022-23': 'denver nuggets',\n",
        "    '2023-24': 'denver nuggets'\n",
        "}\n"
      ],
      "metadata": {
        "id": "dMONqltFlKbv"
      },
      "execution_count": 3,
      "outputs": []
    },
    {
      "cell_type": "code",
      "source": [
        "dados_playoffs = []\n",
        "\n",
        "\n",
        "for season in seasons:\n",
        "  print(f'Coletando dados da temporada {season}.......')\n",
        "  time.sleep(1)\n",
        "\n",
        "  stats = leaguedashteamstats.LeagueDashTeamStats(\n",
        "      season=season,\n",
        "      season_type_all_star='Playoffs'\n",
        "  )\n",
        "\n",
        "  df = stats.get_data_frames()[0]\n",
        "  df['SEASON'] = season\n",
        "\n",
        "\n",
        "  dados_playoffs.append(df)"
      ],
      "metadata": {
        "colab": {
          "base_uri": "https://localhost:8080/"
        },
        "id": "FhIt2l3Vn6l_",
        "outputId": "484a10f1-b274-49ce-d556-aa13939a228f"
      },
      "execution_count": 4,
      "outputs": [
        {
          "output_type": "stream",
          "name": "stdout",
          "text": [
            "Coletando dados da temporada 2013-14.......\n",
            "Coletando dados da temporada 2014-15.......\n",
            "Coletando dados da temporada 2015-16.......\n",
            "Coletando dados da temporada 2016-17.......\n",
            "Coletando dados da temporada 2017-18.......\n",
            "Coletando dados da temporada 2018-19.......\n",
            "Coletando dados da temporada 2019-20.......\n",
            "Coletando dados da temporada 2020-21.......\n",
            "Coletando dados da temporada 2021-22.......\n",
            "Coletando dados da temporada 2022-23.......\n",
            "Coletando dados da temporada 2023-24.......\n"
          ]
        }
      ]
    },
    {
      "cell_type": "code",
      "source": [
        "#filtrando as colunas e adicionando uma coluna de campeão\n",
        "df_playoffs = pd.concat(dados_playoffs, ignore_index=True)\n",
        "\n",
        "df_playoffs['IS_CHAMPION'] = df_playoffs.apply(\n",
        "    lambda row: 1 if row ['TEAM_NAME'] == champions[row['SEASON']] else 0,\n",
        "    axis=1\n",
        "\n",
        ")"
      ],
      "metadata": {
        "id": "RRvRpDDhoUUs"
      },
      "execution_count": 5,
      "outputs": []
    },
    {
      "cell_type": "code",
      "source": [
        "#colunas mais importantes\n",
        "df_playoffs = df_playoffs[[\n",
        "    'TEAM_NAME', 'SEASON', 'GP', 'W', 'L', 'W_PCT', 'MIN', 'PTS',\n",
        "    'REB', 'AST', 'STL', 'BLK', 'TOV', 'FG_PCT', 'FG3_PCT', 'FT_PCT',\n",
        "    'PLUS_MINUS', 'IS_CHAMPION'\n",
        "]]\n"
      ],
      "metadata": {
        "id": "AJB11j-xo1Ti"
      },
      "execution_count": 6,
      "outputs": []
    },
    {
      "cell_type": "code",
      "source": [
        "import os\n",
        "\n",
        "output_path = '/content/drive/MyDrive/Times dos Playoffs E Campeões anteriores'\n",
        "os.makedirs(output_path, exist_ok=True)"
      ],
      "metadata": {
        "id": "5JMsm78Ho-TW"
      },
      "execution_count": 7,
      "outputs": []
    },
    {
      "cell_type": "code",
      "source": [
        "df_playoffs.to_csv(f'{output_path}/df_playoffs.csv', index=False)\n"
      ],
      "metadata": {
        "id": "P3HWENjLpKII"
      },
      "execution_count": 8,
      "outputs": []
    },
    {
      "cell_type": "code",
      "source": [],
      "metadata": {
        "id": "gKf78rKMpKVm"
      },
      "execution_count": null,
      "outputs": []
    }
  ]
}